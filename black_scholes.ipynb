{
 "cells": [
  {
   "cell_type": "code",
   "execution_count": 1,
   "metadata": {},
   "outputs": [],
   "source": [
    "import yfinance as yf\n",
    "from dataclasses import dataclass\n",
    "from scipy.stats import kstest\n",
    "import numpy as np\n",
    "from scipy.stats import norm\n",
    "from tabulate import tabulate\n",
    "from rich import print\n",
    "from matplotlib import pyplot as plt\n",
    "\n",
    "# stocks = yf.Tickers(\"TSLA AAPL\")\n",
    "# hist = stocks.history(start=\"2023-01-01\", end=\"2023-07-31\")\n",
    "# prices = hist[\"Close\"]"
   ]
  },
  {
   "cell_type": "code",
   "execution_count": 2,
   "metadata": {},
   "outputs": [],
   "source": [
    "\n",
    "@dataclass\n",
    "class Stock:\n",
    "    ticker: str\n",
    "    prices: np.ndarray\n",
    "    \n",
    "    @property\n",
    "    def returns(self):\n",
    "        return np.diff(np.log(self.prices))\n",
    "    \n",
    "    def clip_prices(self, lower_bound=0, upper_bound=0.99):\n",
    "        self.prices = np.clip(\n",
    "            self.prices,\n",
    "            np.quantile(self.prices, lower_bound),\n",
    "            np.quantile(self.prices, upper_bound),\n",
    "        )\n",
    "        return self\n",
    "    def test_log_normality(self, significance_level=0.10):\n",
    "        ks_test = kstest(\n",
    "            self.prices,\n",
    "            \"lognorm\",\n",
    "            args=(np.mean(self.prices), np.std(self.prices)),\n",
    "        )\n",
    "        if ks_test.pvalue < significance_level:\n",
    "            print(\n",
    "                f\"The p-value is {ks_test.pvalue}. \\n We **reject** the null hypothesis that the data is log-normally distributed at the {significance_level} significance level.\"\n",
    "            )\n",
    "        else:\n",
    "            print(\n",
    "                f\"The p-value is {ks_test.pvalue}. \\n  We **fail to reject** the null hypothesis that the data is log-normally distributed at the {significance_level} significance level.\"\n",
    "            )\n",
    "        return self\n",
    "    \n",
    "    def test_normality_of_returns(self, significance_level=0.10):\n",
    "        ks_test = kstest(\n",
    "            self.returns,\n",
    "            'norm',\n",
    "            args = (np.mean(self.returns), np.std(self.returns))\n",
    "        )\n",
    "        if ks_test.pvalue < significance_level:\n",
    "            print(\n",
    "                f\"The p-value is {ks_test.pvalue}. \\n We **reject** the null hypothesis that the data is normally distributed at the {significance_level} significance level.\"\n",
    "            )\n",
    "        else:\n",
    "            print(\n",
    "                f\"The p-value is {ks_test.pvalue}. \\n  We **fail to reject** the null hypothesis that the data is normally distributed at the {significance_level} significance level.\"\n",
    "            )\n",
    "        return self\n",
    "\n",
    "    def __repr__(self) -> str:\n",
    "        return f\"{self.ticker} with {len(self.prices)} observations\"\n",
    "    "
   ]
  },
  {
   "cell_type": "code",
   "execution_count": 3,
   "metadata": {},
   "outputs": [],
   "source": [
    "tesla = Stock('TSLA',prices['TSLA'].dropna().to_numpy())\n",
    "apple = Stock('AAPL',prices['AAPL'].dropna().to_numpy())"
   ]
  },
  {
   "cell_type": "markdown",
   "metadata": {},
   "source": [
    "### Black Scholes Model\n",
    "\n",
    "$c = S_0 \\mathcal{N}(d_1) - K e^{-rT}\\mathcal{N}(d_2) $\n",
    "\n",
    "Here:\n",
    "\n",
    "$$d_1 = \\frac{ln(\\frac{S_0}{K}) + (r + \\frac{\\sigma^2}{2})T}{\\sigma \\sqrt{T}}$$\n",
    "\n",
    "and\n",
    "\n",
    "$d_2 = d_1 - \\sigma \\sqrt{T}$\n",
    "\n",
    "where:\n",
    "$S_0$ is the spot price of the underlying asset at time 0\n",
    "$K$ is the strike price\n",
    "$r$ is the risk free rate\n",
    "$T$ is the time to maturity\n",
    "$\\sigma$ is the volatility of the underlying asset\n"
   ]
  },
  {
   "cell_type": "code",
   "execution_count": 32,
   "metadata": {},
   "outputs": [],
   "source": [
    "\n",
    "class BlackScholes:\n",
    "    def __init__ (self, stock_price, strike_price, sigma, risk_free_rate, time_to_maturity ):\n",
    "        self.stock_price = stock_price\n",
    "        self.strike_price = strike_price\n",
    "        self.sigma = sigma\n",
    "        self.risk_free_rate = risk_free_rate\n",
    "        self.time_to_maturity = time_to_maturity\n",
    "        self.volatility = self.sigma * np.sqrt(self.time_to_maturity) \n",
    "        self.d1 = (np.log(self.stock_price / self.strike_price) + (self.risk_free_rate - 0.5 * self.sigma ** 2) * self.time_to_maturity) / self.volatility\n",
    "        self.d2 = self.d1 + self.volatility\n",
    "        self.call_delta = norm.cdf(self.d2)\n",
    "        self.put_delta = norm.cdf(-self.d2)\n",
    "        self.gamma = norm.pdf(self.d1) / (self.stock_price * self.volatility, np.sqrt(self.time_to_maturity))\n",
    "        self.vega = self.stock_price * norm.pdf(self.d1) * np.sqrt(self.time_to_maturity)\n",
    "        self.theta = - (self.stock_price * norm.pdf(self.d1) * self.sigma) / (2 * np.sqrt(self.time_to_maturity)) - self.risk_free_rate * self.strike_price * np.exp(-self.risk_free_rate * self.time_to_maturity) * norm.cdf(self.d2)\n",
    "        self.price_call()\n",
    "        self.price_put()\n",
    "        self.check_put_call_parity()\n",
    "        \n",
    "    \n",
    "    def price_call (self):\n",
    "        if hasattr(self, 'call_price'):\n",
    "           return self.call_price \n",
    "        else:\n",
    "            self.call_price = (self.stock_price * self.call_delta) - (self.strike_price * np.exp(-self.risk_free_rate * self.time_to_maturity) * norm.cdf(self.d1))\n",
    "        return self\n",
    "    \n",
    "    def price_put (self):\n",
    "        if hasattr(self, 'put_price'):\n",
    "            return self.put_price \n",
    "        else:\n",
    "            self.put_price = (self.strike_price * np.exp(-self.risk_free_rate * self.time_to_maturity) * norm.cdf(-self.d1)) - (self.stock_price * norm.cdf(-self.d2))\n",
    "        return self \n",
    "            \n",
    "    \n",
    "    def check_put_call_parity (self):\n",
    "        lhs = self.call_price - self.put_price\n",
    "        rhs = self.stock_price - (self.strike_price * np.exp(-self.risk_free_rate * self.time_to_maturity))\n",
    "        self.put_call_parity = np.allclose(lhs, rhs, rtol=1e-05, atol=1e-08) \n",
    "    \n",
    "    def __repr__ (self):\n",
    "        attributes = ['call_price','put_price','put_call_parity', 'call_delta','put_delta','d1', 'd2', 'gamma', 'vega', 'theta', 'stock_price', 'strike_price', 'sigma', 'risk_free_rate', 'time_to_maturity', 'volatility']\n",
    "        round_if_float = lambda x: round(x, 2) if isinstance(x, float) else x\n",
    "        attribute_info = [[attr, round_if_float(getattr(self, attr))] for attr in attributes]\n",
    "        return tabulate(attribute_info, headers=[\"Attribute\", \"Value\"], tablefmt=\"grid\")\n",
    "            "
   ]
  },
  {
   "cell_type": "code",
   "execution_count": 33,
   "metadata": {},
   "outputs": [
    {
     "name": "stderr",
     "output_type": "stream",
     "text": [
      "c:\\Users\\kumar\\AppData\\Local\\Programs\\Python\\Python311\\Lib\\site-packages\\tabulate\\__init__.py:108: FutureWarning: elementwise comparison failed; returning scalar instead, but in the future will perform elementwise comparison\n",
      "  or (len(row) >= 2 and row[1] == SEPARATING_LINE)\n"
     ]
    },
    {
     "data": {
      "text/html": [
       "<pre style=\"white-space:pre;overflow-x:auto;line-height:normal;font-family:Menlo,'DejaVu Sans Mono',consolas,'Courier New',monospace\">+------------------+-------------------------+\n",
       "| Attribute        | Value                   |\n",
       "+==================+=========================+\n",
       "| call_price       | <span style=\"color: #008080; text-decoration-color: #008080; font-weight: bold\">20.92</span>                   |\n",
       "+------------------+-------------------------+\n",
       "| put_price        | <span style=\"color: #008080; text-decoration-color: #008080; font-weight: bold\">7.0</span>                     |\n",
       "+------------------+-------------------------+\n",
       "| put_call_parity  | <span style=\"color: #00ff00; text-decoration-color: #00ff00; font-style: italic\">True</span>                    |\n",
       "+------------------+-------------------------+\n",
       "| call_delta       | <span style=\"color: #008080; text-decoration-color: #008080; font-weight: bold\">0.73</span>                    |\n",
       "+------------------+-------------------------+\n",
       "| put_delta        | <span style=\"color: #008080; text-decoration-color: #008080; font-weight: bold\">0.27</span>                    |\n",
       "+------------------+-------------------------+\n",
       "| d1               | <span style=\"color: #008080; text-decoration-color: #008080; font-weight: bold\">0.26</span>                    |\n",
       "+------------------+-------------------------+\n",
       "| d2               | <span style=\"color: #008080; text-decoration-color: #008080; font-weight: bold\">0.61</span>                    |\n",
       "+------------------+-------------------------+\n",
       "| gamma            | <span style=\"font-weight: bold\">[</span><span style=\"color: #008080; text-decoration-color: #008080; font-weight: bold\">0.01113428</span> <span style=\"color: #008080; text-decoration-color: #008080; font-weight: bold\">0.22268553</span><span style=\"font-weight: bold\">]</span> |\n",
       "+------------------+-------------------------+\n",
       "| vega             | <span style=\"color: #008080; text-decoration-color: #008080; font-weight: bold\">66.81</span>                   |\n",
       "+------------------+-------------------------+\n",
       "| theta            | <span style=\"color: #008080; text-decoration-color: #008080; font-weight: bold\">-5.36</span>                   |\n",
       "+------------------+-------------------------+\n",
       "| stock_price      | <span style=\"color: #008080; text-decoration-color: #008080; font-weight: bold\">100</span>                     |\n",
       "+------------------+-------------------------+\n",
       "| strike_price     | <span style=\"color: #008080; text-decoration-color: #008080; font-weight: bold\">100</span>                     |\n",
       "+------------------+-------------------------+\n",
       "| sigma            | <span style=\"color: #008080; text-decoration-color: #008080; font-weight: bold\">0.2</span>                     |\n",
       "+------------------+-------------------------+\n",
       "| risk_free_rate   | <span style=\"color: #008080; text-decoration-color: #008080; font-weight: bold\">0.05</span>                    |\n",
       "+------------------+-------------------------+\n",
       "| time_to_maturity | <span style=\"color: #008080; text-decoration-color: #008080; font-weight: bold\">3</span>                       |\n",
       "+------------------+-------------------------+\n",
       "| volatility       | <span style=\"color: #008080; text-decoration-color: #008080; font-weight: bold\">0.35</span>                    |\n",
       "+------------------+-------------------------+\n",
       "</pre>\n"
      ],
      "text/plain": [
       "+------------------+-------------------------+\n",
       "| Attribute        | Value                   |\n",
       "+==================+=========================+\n",
       "| call_price       | \u001b[1;36m20.92\u001b[0m                   |\n",
       "+------------------+-------------------------+\n",
       "| put_price        | \u001b[1;36m7.0\u001b[0m                     |\n",
       "+------------------+-------------------------+\n",
       "| put_call_parity  | \u001b[3;92mTrue\u001b[0m                    |\n",
       "+------------------+-------------------------+\n",
       "| call_delta       | \u001b[1;36m0.73\u001b[0m                    |\n",
       "+------------------+-------------------------+\n",
       "| put_delta        | \u001b[1;36m0.27\u001b[0m                    |\n",
       "+------------------+-------------------------+\n",
       "| d1               | \u001b[1;36m0.26\u001b[0m                    |\n",
       "+------------------+-------------------------+\n",
       "| d2               | \u001b[1;36m0.61\u001b[0m                    |\n",
       "+------------------+-------------------------+\n",
       "| gamma            | \u001b[1m[\u001b[0m\u001b[1;36m0.01113428\u001b[0m \u001b[1;36m0.22268553\u001b[0m\u001b[1m]\u001b[0m |\n",
       "+------------------+-------------------------+\n",
       "| vega             | \u001b[1;36m66.81\u001b[0m                   |\n",
       "+------------------+-------------------------+\n",
       "| theta            | \u001b[1;36m-5.36\u001b[0m                   |\n",
       "+------------------+-------------------------+\n",
       "| stock_price      | \u001b[1;36m100\u001b[0m                     |\n",
       "+------------------+-------------------------+\n",
       "| strike_price     | \u001b[1;36m100\u001b[0m                     |\n",
       "+------------------+-------------------------+\n",
       "| sigma            | \u001b[1;36m0.2\u001b[0m                     |\n",
       "+------------------+-------------------------+\n",
       "| risk_free_rate   | \u001b[1;36m0.05\u001b[0m                    |\n",
       "+------------------+-------------------------+\n",
       "| time_to_maturity | \u001b[1;36m3\u001b[0m                       |\n",
       "+------------------+-------------------------+\n",
       "| volatility       | \u001b[1;36m0.35\u001b[0m                    |\n",
       "+------------------+-------------------------+\n"
      ]
     },
     "metadata": {},
     "output_type": "display_data"
    }
   ],
   "source": [
    "b = BlackScholes(stock_price=100, strike_price=100, time_to_maturity=3, risk_free_rate=0.05, sigma=0.2)\n",
    "print(b)"
   ]
  },
  {
   "cell_type": "markdown",
   "metadata": {},
   "source": [
    "$$S_{T} = S_{t} e^{\\left(\\left(r-\\frac{1}{2}\\sigma^{2}\\right)(T-t) +\\sigma \\sqrt{T-t}\\,z\\right)}\\,,$$"
   ]
  },
  {
   "cell_type": "code",
   "execution_count": 18,
   "metadata": {},
   "outputs": [],
   "source": [
    "r = 0.06\n",
    "sigma = 0.3\n",
    "T = 1.0\n",
    "S0 = 100\n",
    "\n",
    "Ite = 100000\n",
    "M = 100\n",
    "\n",
    "dt = T / M\n",
    "\n",
    "S = np.zeros((M + 1, Ite))\n",
    "S[0] = S0\n",
    "for t in range(1, M + 1):\n",
    "    S[t] = S[t - 1] * np.exp(\n",
    "        (r - 0.5 * sigma**2) * dt + sigma * np.sqrt(dt) * np.random.standard_normal(Ite)\n",
    "    )"
   ]
  },
  {
   "cell_type": "code",
   "execution_count": 37,
   "metadata": {},
   "outputs": [
    {
     "data": {
      "text/plain": [
       "17.340303730270232"
      ]
     },
     "execution_count": 37,
     "metadata": {},
     "output_type": "execute_result"
    }
   ],
   "source": [
    "T = 1   \n",
    "t = 0\n",
    "S = 100\n",
    "K = 95\n",
    "r = 0.06\n",
    "sigma = 0.3\n",
    "data = np.zeros((Ite, 2)) # Creates a matrix of zeroes of length Ite x 2\n",
    "z = np.random.normal(0, 1, [1, Ite])\n",
    "ST = S * np.exp((T - t) * (r - 0.5 * sigma**2) + sigma * np.sqrt(T - t) * z)\n",
    "data[:, 1] = ST - K\n",
    "\n",
    "# average = np.sum(np.amax(data, axis=1)) / float(Ite)\n",
    "(np.sum(np.amax(data, axis=1)) / float(Ite)) * np.exp(-r * (T-t))\n"
   ]
  },
  {
   "cell_type": "markdown",
   "metadata": {},
   "source": [
    "# Price Call Option"
   ]
  },
  {
   "cell_type": "code",
   "execution_count": 32,
   "metadata": {},
   "outputs": [
    {
     "data": {
      "text/plain": [
       "array([[  0.        ,  49.76725027],\n",
       "       [  0.        ,   4.7555717 ],\n",
       "       [  0.        ,  -5.9139897 ],\n",
       "       ...,\n",
       "       [  0.        , 125.17064136],\n",
       "       [  0.        ,  83.98277026],\n",
       "       [  0.        ,  25.17431963]])"
      ]
     },
     "execution_count": 32,
     "metadata": {},
     "output_type": "execute_result"
    }
   ],
   "source": [
    "T = 1   \n",
    "t = 0\n",
    "S = 100\n",
    "K = 95\n",
    "r = 0.06\n",
    "sigma = 0.3\n",
    "data = np.zeros((Ite, 2)) # Creates a matrix of zeroes of length Ite x 2\n",
    "z = np.random.normal(0, 1, [1, Ite])\n",
    "ST = S * np.exp((T - t) * (r - 0.5 * sigma**2) + sigma * np.sqrt(T - t) * z)\n",
    "data[:, 1] = ST - K\n",
    "\n",
    "# average = np.sum(np.amax(data, axis=1)) / float(Ite)\n",
    "(np.sum(np.amax(data, axis=1)) / float(Ite)) * np.exp(-r * (T-t))"
   ]
  },
  {
   "cell_type": "markdown",
   "metadata": {},
   "source": [
    "## Price put option"
   ]
  },
  {
   "cell_type": "code",
   "execution_count": 44,
   "metadata": {},
   "outputs": [
    {
     "data": {
      "text/plain": [
       "7.586098426399119"
      ]
     },
     "execution_count": 44,
     "metadata": {},
     "output_type": "execute_result"
    }
   ],
   "source": [
    "np.random.seed(2)\n",
    "Ite = 3000\n",
    "T = 3/12   \n",
    "t = 0\n",
    "S = 118.75\n",
    "K = 122\n",
    "r = 0.015\n",
    "sigma = 0.25\n",
    "data = np.zeros((Ite, 2)) # Creates a matrix of zeroes of length Ite x 2\n",
    "z = np.random.normal(0, 1, [1, Ite])\n",
    "ST = S * np.exp((T - t) * (r - 0.5 * sigma**2) + sigma * np.sqrt(T - t) * z)\n",
    "data[:, 1] = K- ST\n",
    "\n",
    "# average = np.sum(np.amax(data, axis=1)) / float(Ite)\n",
    "(np.sum(np.amax(data, axis=1)) / float(Ite)) * np.exp(-r * (T-t))"
   ]
  },
  {
   "cell_type": "code",
   "execution_count": 52,
   "metadata": {},
   "outputs": [
    {
     "data": {
      "image/png": "[encoded data removed]",
      "text/plain": [
       "<Figure size 1000x800 with 1 Axes>"
      ]
     },
     "metadata": {},
     "output_type": "display_data"
    }
   ],
   "source": [
    "plt.figure(figsize=(10, 8))\n",
    "plt.hist(S[97], bins=1a00)\n",
    "plt.xlabel(\"S(T)\")\n",
    "plt.ylabel(\"frequency\")\n",
    "plt.show()"
   ]
  },
  {
   "cell_type": "code",
   "execution_count": null,
   "metadata": {},
   "outputs": [],
   "source": []
  }
 ],
 "metadata": {
  "kernelspec": {
   "display_name": "Python 3",
   "language": "python",
   "name": "python3"
  },
  "language_info": {
   "codemirror_mode": {
    "name": "ipython",
    "version": 3
   },
   "file_extension": ".py",
   "mimetype": "text/x-python",
   "name": "python",
   "nbconvert_exporter": "python",
   "pygments_lexer": "ipython3",
   "version": "3.11.3"
  },
  "orig_nbformat": 4
 },
 "nbformat": 4,
 "nbformat_minor": 2
}
