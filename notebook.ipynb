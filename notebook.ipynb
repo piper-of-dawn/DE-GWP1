{
 "cells": [
  {
   "cell_type": "markdown",
   "metadata": {},
   "source": [
    "## Import the libraries and modules\n",
    "\n",
    "Please note that we have written a module for Options Pricing. This module is available in the same folder as this notebook. We will import this module and use it for our calculations. The module contains classes to perform the calculations. We will use the classes to create objects and perform the calculations.\n",
    "\n",
    "\n",
    "\n"
   ]
  },
  {
   "cell_type": "code",
   "execution_count": 3,
   "metadata": {},
   "outputs": [],
   "source": [
    "import numpy as np\n",
    "from binomial_pricing import Option, OptionStyle, OptionRight"
   ]
  },
  {
   "cell_type": "markdown",
   "metadata": {},
   "source": [
    "## Choosing Number of Steps"
   ]
  },
  {
   "cell_type": "markdown",
   "metadata": {},
   "source": [
    "We perform a simulation to choose the number of steps to take for pricing the option. We define the class to perform the simulation and then graph it"
   ]
  },
  {
   "cell_type": "code",
   "execution_count": 4,
   "metadata": {},
   "outputs": [],
   "source": [
    "import plotly.graph_objects as go\n",
    "from typing import Generator, Iterable\n",
    "\n",
    "class NumberOfStepsSimulator:\n",
    "    def __init__(self, option,iterator: Iterable[int]):\n",
    "        self.initial_option = option\n",
    "        self.iterator = iterator\n",
    "        self.simulated_prices = self.simulate_number_of_steps()\n",
    "            \n",
    "    \n",
    "    def simulate_number_of_steps (self) -> Generator[float, None, None]:\n",
    "        for steps in self.iterator:            \n",
    "            option = Option(style=self.initial_option.style, right=self.initial_option.right, spot_price=self.initial_option.spot_price, strike_price=self.initial_option.strike_price, time_to_maturity=self.initial_option.time_to_maturity, risk_free_rate=self.initial_option.risk_free_rate, number_of_steps=steps, upside=self.initial_option.upside, downside=self.initial_option.downside, sigma=self.initial_option.sigma)    \n",
    "            yield option.price()\n",
    "    \n",
    "\n",
    "    def graph(self):\n",
    "        self.steps = [i for i in self.iterator]\n",
    "        self.prices = [price for price in self.simulated_prices]\n",
    "        graph = go.Scatter(x=self.steps, y=self.prices, mode='lines+markers')\n",
    "        return graph"
   ]
  },
  {
   "cell_type": "markdown",
   "metadata": {},
   "source": [
    "We simulate from 1 to 30 steps. We also instantiate the Option class with the parameters. Number of steps is anchored to 3 just to instantiate. We will decide the final number of steps through the simulation. "
   ]
  },
  {
   "cell_type": "code",
   "execution_count": 5,
   "metadata": {},
   "outputs": [],
   "source": [
    "european_call = Option(style=OptionStyle.EUROPEAN, right=OptionRight.CALL, spot_price=100, strike_price=100, time_to_maturity=3, risk_free_rate=0.05, number_of_steps=3, sigma=0.2)\n",
    "european_put = Option(style=OptionStyle.EUROPEAN, right=OptionRight.PUT, spot_price=100, strike_price=100, time_to_maturity=3, risk_free_rate=0.05, number_of_steps=3, sigma=0.2)\n",
    "american_call = Option(style=OptionStyle.AMERICAN, right=OptionRight.CALL, spot_price=100, strike_price=100, time_to_maturity=3, risk_free_rate=0.05, number_of_steps=3, sigma=0.2)\n",
    "american_put = Option(style=OptionStyle.AMERICAN, right=OptionRight.PUT, spot_price=100, strike_price=100, time_to_maturity=3, risk_free_rate=0.05, number_of_steps=3, sigma=0.2)"
   ]
  },
  {
   "cell_type": "code",
   "execution_count": 6,
   "metadata": {},
   "outputs": [
    {
     "data": {
      "application/vnd.plotly.v1+json": {
       "config": {
        "plotlyServerURL": "https://plot.ly"
       },
       "data": [
        {
         "mode": "lines+markers",
         "type": "scatter",
         "x": [
          1,
          2,
          3,
          4,
          5,
          6,
          7,
          8,
          9,
          10,
          11,
          12,
          13,
          14,
          15,
          16,
          17,
          18,
          19,
          20,
          21,
          22,
          23,
          24,
          25,
          26,
          27,
          28,
          29
         ],
         "xaxis": "x",
         "y": [
          22.919573412948324,
          19.35758112667937,
          21.683373780183455,
          20.097798439928514,
          21.385006392074263,
          20.36476105288071,
          21.254225689762414,
          20.501693237504362,
          21.181107748320198,
          20.584874360766612,
          21.134467763391555,
          20.64073100148395,
          21.102146111014054,
          20.680817766489096,
          21.078433127233822,
          20.710983059656986,
          21.06029639523522,
          20.73450287780926,
          21.045977173510536,
          20.75335449528043,
          21.03438557767892,
          20.768801801179208,
          21.02481036483756,
          20.781690323049038,
          21.01676770403987,
          20.792607059227493,
          21.00991704304219,
          20.80197225203974,
          21.004011742247513
         ],
         "yaxis": "y"
        },
        {
         "mode": "lines+markers",
         "type": "scatter",
         "x": [
          1,
          2,
          3,
          4,
          5,
          6,
          7,
          8,
          9,
          10,
          11,
          12,
          13,
          14,
          15,
          16,
          17,
          18,
          19,
          20,
          21,
          22,
          23,
          24,
          25,
          26,
          27,
          28,
          29
         ],
         "xaxis": "x2",
         "y": [
          8.990371055454107,
          8.133471220810973,
          8.893628079107152,
          8.15203822105674,
          8.791419289568353,
          8.440552737845785,
          8.862826752303794,
          8.561867294934055,
          8.822977822100013,
          8.563071682862299,
          8.753500136012269,
          8.554765390112795,
          8.761516244272142,
          8.595302159335905,
          8.773092881277677,
          8.626005765426116,
          8.776463773614354,
          8.64103065409059,
          8.763937163218033,
          8.63808915694147,
          8.742483076108625,
          8.630900354912018,
          8.737762321284858,
          8.638468091866258,
          8.741497449097768,
          8.650197863160274,
          8.745004348225557,
          8.660100818777096,
          8.747166525926804
         ],
         "yaxis": "y2"
        },
        {
         "mode": "lines+markers",
         "type": "scatter",
         "x": [
          1,
          2,
          3,
          4,
          5,
          6,
          7,
          8,
          9,
          10,
          11,
          12,
          13,
          14,
          15,
          16,
          17,
          18,
          19,
          20,
          21,
          22,
          23,
          24,
          25,
          26,
          27,
          28,
          29
         ],
         "xaxis": "x3",
         "y": [
          22.919573412948324,
          19.35758112667937,
          21.683373780183455,
          20.097798439928514,
          21.385006392074263,
          20.36476105288071,
          21.254225689762414,
          20.501693237504362,
          21.181107748320198,
          20.584874360766612,
          21.134467763391555,
          20.64073100148395,
          21.102146111014054,
          20.680817766489096,
          21.078433127233822,
          20.710983059656986,
          21.06029639523522,
          20.73450287780926,
          21.045977173510536,
          20.75335449528043,
          21.03438557767892,
          20.768801801179208,
          21.02481036483756,
          20.781690323049038,
          21.01676770403987,
          20.792607059227493,
          21.00991704304219,
          20.80197225203974,
          21.004011742247513
         ],
         "yaxis": "y3"
        },
        {
         "mode": "lines+markers",
         "type": "scatter",
         "x": [
          1,
          2,
          3,
          4,
          5,
          6,
          7,
          8,
          9,
          10,
          11,
          12,
          13,
          14,
          15,
          16,
          17,
          18,
          19,
          20,
          21,
          22,
          23,
          24,
          25,
          26,
          27,
          28,
          29
         ],
         "xaxis": "x4",
         "y": [
          8.990371055454107,
          8.133471220810973,
          8.893628079107152,
          8.15203822105674,
          8.791419289568353,
          8.440552737845785,
          8.862826752303794,
          8.561867294934055,
          8.822977822100013,
          8.563071682862299,
          8.753500136012269,
          8.554765390112795,
          8.761516244272142,
          8.595302159335905,
          8.773092881277677,
          8.626005765426116,
          8.776463773614354,
          8.64103065409059,
          8.763937163218033,
          8.63808915694147,
          8.742483076108625,
          8.630900354912018,
          8.737762321284858,
          8.638468091866258,
          8.741497449097768,
          8.650197863160274,
          8.745004348225557,
          8.660100818777096,
          8.747166525926804
         ],
         "yaxis": "y4"
        }
       ],
       "layout": {
        "annotations": [
         {
          "font": {
           "size": 16
          },
          "showarrow": false,
          "text": "European Call",
          "x": 0.225,
          "xanchor": "center",
          "xref": "paper",
          "y": 1,
          "yanchor": "bottom",
          "yref": "paper"
         },
         {
          "font": {
           "size": 16
          },
          "showarrow": false,
          "text": "European Put",
          "x": 0.775,
          "xanchor": "center",
          "xref": "paper",
          "y": 1,
          "yanchor": "bottom",
          "yref": "paper"
         },
         {
          "font": {
           "size": 16
          },
          "showarrow": false,
          "text": "American Call",
          "x": 0.225,
          "xanchor": "center",
          "xref": "paper",
          "y": 0.375,
          "yanchor": "bottom",
          "yref": "paper"
         },
         {
          "font": {
           "size": 16
          },
          "showarrow": false,
          "text": "American Put",
          "x": 0.775,
          "xanchor": "center",
          "xref": "paper",
          "y": 0.375,
          "yanchor": "bottom",
          "yref": "paper"
         }
        ],
        "height": 600,
        "template": {
         "data": {
          "bar": [
           {
            "error_x": {
             "color": "#2a3f5f"
            },
            "error_y": {
             "color": "#2a3f5f"
            },
            "marker": {
             "line": {
              "color": "#E5ECF6",
              "width": 0.5
             },
             "pattern": {
              "fillmode": "overlay",
              "size": 10,
              "solidity": 0.2
             }
            },
            "type": "bar"
           }
          ],
          "barpolar": [
           {
            "marker": {
             "line": {
              "color": "#E5ECF6",
              "width": 0.5
             },
             "pattern": {
              "fillmode": "overlay",
              "size": 10,
              "solidity": 0.2
             }
            },
            "type": "barpolar"
           }
          ],
          "carpet": [
           {
            "aaxis": {
             "endlinecolor": "#2a3f5f",
             "gridcolor": "white",
             "linecolor": "white",
             "minorgridcolor": "white",
             "startlinecolor": "#2a3f5f"
            },
            "baxis": {
             "endlinecolor": "#2a3f5f",
             "gridcolor": "white",
             "linecolor": "white",
             "minorgridcolor": "white",
             "startlinecolor": "#2a3f5f"
            },
            "type": "carpet"
           }
          ],
          "choropleth": [
           {
            "colorbar": {
             "outlinewidth": 0,
             "ticks": ""
            },
            "type": "choropleth"
           }
          ],
          "contour": [
           {
            "colorbar": {
             "outlinewidth": 0,
             "ticks": ""
            },
            "colorscale": [
             [
              0,
              "#0d0887"
             ],
             [
              0.1111111111111111,
              "#46039f"
             ],
             [
              0.2222222222222222,
              "#7201a8"
             ],
             [
              0.3333333333333333,
              "#9c179e"
             ],
             [
              0.4444444444444444,
              "#bd3786"
             ],
             [
              0.5555555555555556,
              "#d8576b"
             ],
             [
              0.6666666666666666,
              "#ed7953"
             ],
             [
              0.7777777777777778,
              "#fb9f3a"
             ],
             [
              0.8888888888888888,
              "#fdca26"
             ],
             [
              1,
              "#f0f921"
             ]
            ],
            "type": "contour"
           }
          ],
          "contourcarpet": [
           {
            "colorbar": {
             "outlinewidth": 0,
             "ticks": ""
            },
            "type": "contourcarpet"
           }
          ],
          "heatmap": [
           {
            "colorbar": {
             "outlinewidth": 0,
             "ticks": ""
            },
            "colorscale": [
             [
              0,
              "#0d0887"
             ],
             [
              0.1111111111111111,
              "#46039f"
             ],
             [
              0.2222222222222222,
              "#7201a8"
             ],
             [
              0.3333333333333333,
              "#9c179e"
             ],
             [
              0.4444444444444444,
              "#bd3786"
             ],
             [
              0.5555555555555556,
              "#d8576b"
             ],
             [
              0.6666666666666666,
              "#ed7953"
             ],
             [
              0.7777777777777778,
              "#fb9f3a"
             ],
             [
              0.8888888888888888,
              "#fdca26"
             ],
             [
              1,
              "#f0f921"
             ]
            ],
            "type": "heatmap"
           }
          ],
          "heatmapgl": [
           {
            "colorbar": {
             "outlinewidth": 0,
             "ticks": ""
            },
            "colorscale": [
             [
              0,
              "#0d0887"
             ],
             [
              0.1111111111111111,
              "#46039f"
             ],
             [
              0.2222222222222222,
              "#7201a8"
             ],
             [
              0.3333333333333333,
              "#9c179e"
             ],
             [
              0.4444444444444444,
              "#bd3786"
             ],
             [
              0.5555555555555556,
              "#d8576b"
             ],
             [
              0.6666666666666666,
              "#ed7953"
             ],
             [
              0.7777777777777778,
              "#fb9f3a"
             ],
             [
              0.8888888888888888,
              "#fdca26"
             ],
             [
              1,
              "#f0f921"
             ]
            ],
            "type": "heatmapgl"
           }
          ],
          "histogram": [
           {
            "marker": {
             "pattern": {
              "fillmode": "overlay",
              "size": 10,
              "solidity": 0.2
             }
            },
            "type": "histogram"
           }
          ],
          "histogram2d": [
           {
            "colorbar": {
             "outlinewidth": 0,
             "ticks": ""
            },
            "colorscale": [
             [
              0,
              "#0d0887"
             ],
             [
              0.1111111111111111,
              "#46039f"
             ],
             [
              0.2222222222222222,
              "#7201a8"
             ],
             [
              0.3333333333333333,
              "#9c179e"
             ],
             [
              0.4444444444444444,
              "#bd3786"
             ],
             [
              0.5555555555555556,
              "#d8576b"
             ],
             [
              0.6666666666666666,
              "#ed7953"
             ],
             [
              0.7777777777777778,
              "#fb9f3a"
             ],
             [
              0.8888888888888888,
              "#fdca26"
             ],
             [
              1,
              "#f0f921"
             ]
            ],
            "type": "histogram2d"
           }
          ],
          "histogram2dcontour": [
           {
            "colorbar": {
             "outlinewidth": 0,
             "ticks": ""
            },
            "colorscale": [
             [
              0,
              "#0d0887"
             ],
             [
              0.1111111111111111,
              "#46039f"
             ],
             [
              0.2222222222222222,
              "#7201a8"
             ],
             [
              0.3333333333333333,
              "#9c179e"
             ],
             [
              0.4444444444444444,
              "#bd3786"
             ],
             [
              0.5555555555555556,
              "#d8576b"
             ],
             [
              0.6666666666666666,
              "#ed7953"
             ],
             [
              0.7777777777777778,
              "#fb9f3a"
             ],
             [
              0.8888888888888888,
              "#fdca26"
             ],
             [
              1,
              "#f0f921"
             ]
            ],
            "type": "histogram2dcontour"
           }
          ],
          "mesh3d": [
           {
            "colorbar": {
             "outlinewidth": 0,
             "ticks": ""
            },
            "type": "mesh3d"
           }
          ],
          "parcoords": [
           {
            "line": {
             "colorbar": {
              "outlinewidth": 0,
              "ticks": ""
             }
            },
            "type": "parcoords"
           }
          ],
          "pie": [
           {
            "automargin": true,
            "type": "pie"
           }
          ],
          "scatter": [
           {
            "fillpattern": {
             "fillmode": "overlay",
             "size": 10,
             "solidity": 0.2
            },
            "type": "scatter"
           }
          ],
          "scatter3d": [
           {
            "line": {
             "colorbar": {
              "outlinewidth": 0,
              "ticks": ""
             }
            },
            "marker": {
             "colorbar": {
              "outlinewidth": 0,
              "ticks": ""
             }
            },
            "type": "scatter3d"
           }
          ],
          "scattercarpet": [
           {
            "marker": {
             "colorbar": {
              "outlinewidth": 0,
              "ticks": ""
             }
            },
            "type": "scattercarpet"
           }
          ],
          "scattergeo": [
           {
            "marker": {
             "colorbar": {
              "outlinewidth": 0,
              "ticks": ""
             }
            },
            "type": "scattergeo"
           }
          ],
          "scattergl": [
           {
            "marker": {
             "colorbar": {
              "outlinewidth": 0,
              "ticks": ""
             }
            },
            "type": "scattergl"
           }
          ],
          "scattermapbox": [
           {
            "marker": {
             "colorbar": {
              "outlinewidth": 0,
              "ticks": ""
             }
            },
            "type": "scattermapbox"
           }
          ],
          "scatterpolar": [
           {
            "marker": {
             "colorbar": {
              "outlinewidth": 0,
              "ticks": ""
             }
            },
            "type": "scatterpolar"
           }
          ],
          "scatterpolargl": [
           {
            "marker": {
             "colorbar": {
              "outlinewidth": 0,
              "ticks": ""
             }
            },
            "type": "scatterpolargl"
           }
          ],
          "scatterternary": [
           {
            "marker": {
             "colorbar": {
              "outlinewidth": 0,
              "ticks": ""
             }
            },
            "type": "scatterternary"
           }
          ],
          "surface": [
           {
            "colorbar": {
             "outlinewidth": 0,
             "ticks": ""
            },
            "colorscale": [
             [
              0,
              "#0d0887"
             ],
             [
              0.1111111111111111,
              "#46039f"
             ],
             [
              0.2222222222222222,
              "#7201a8"
             ],
             [
              0.3333333333333333,
              "#9c179e"
             ],
             [
              0.4444444444444444,
              "#bd3786"
             ],
             [
              0.5555555555555556,
              "#d8576b"
             ],
             [
              0.6666666666666666,
              "#ed7953"
             ],
             [
              0.7777777777777778,
              "#fb9f3a"
             ],
             [
              0.8888888888888888,
              "#fdca26"
             ],
             [
              1,
              "#f0f921"
             ]
            ],
            "type": "surface"
           }
          ],
          "table": [
           {
            "cells": {
             "fill": {
              "color": "#EBF0F8"
             },
             "line": {
              "color": "white"
             }
            },
            "header": {
             "fill": {
              "color": "#C8D4E3"
             },
             "line": {
              "color": "white"
             }
            },
            "type": "table"
           }
          ]
         },
         "layout": {
          "annotationdefaults": {
           "arrowcolor": "#2a3f5f",
           "arrowhead": 0,
           "arrowwidth": 1
          },
          "autotypenumbers": "strict",
          "coloraxis": {
           "colorbar": {
            "outlinewidth": 0,
            "ticks": ""
           }
          },
          "colorscale": {
           "diverging": [
            [
             0,
             "#8e0152"
            ],
            [
             0.1,
             "#c51b7d"
            ],
            [
             0.2,
             "#de77ae"
            ],
            [
             0.3,
             "#f1b6da"
            ],
            [
             0.4,
             "#fde0ef"
            ],
            [
             0.5,
             "#f7f7f7"
            ],
            [
             0.6,
             "#e6f5d0"
            ],
            [
             0.7,
             "#b8e186"
            ],
            [
             0.8,
             "#7fbc41"
            ],
            [
             0.9,
             "#4d9221"
            ],
            [
             1,
             "#276419"
            ]
           ],
           "sequential": [
            [
             0,
             "#0d0887"
            ],
            [
             0.1111111111111111,
             "#46039f"
            ],
            [
             0.2222222222222222,
             "#7201a8"
            ],
            [
             0.3333333333333333,
             "#9c179e"
            ],
            [
             0.4444444444444444,
             "#bd3786"
            ],
            [
             0.5555555555555556,
             "#d8576b"
            ],
            [
             0.6666666666666666,
             "#ed7953"
            ],
            [
             0.7777777777777778,
             "#fb9f3a"
            ],
            [
             0.8888888888888888,
             "#fdca26"
            ],
            [
             1,
             "#f0f921"
            ]
           ],
           "sequentialminus": [
            [
             0,
             "#0d0887"
            ],
            [
             0.1111111111111111,
             "#46039f"
            ],
            [
             0.2222222222222222,
             "#7201a8"
            ],
            [
             0.3333333333333333,
             "#9c179e"
            ],
            [
             0.4444444444444444,
             "#bd3786"
            ],
            [
             0.5555555555555556,
             "#d8576b"
            ],
            [
             0.6666666666666666,
             "#ed7953"
            ],
            [
             0.7777777777777778,
             "#fb9f3a"
            ],
            [
             0.8888888888888888,
             "#fdca26"
            ],
            [
             1,
             "#f0f921"
            ]
           ]
          },
          "colorway": [
           "#636efa",
           "#EF553B",
           "#00cc96",
           "#ab63fa",
           "#FFA15A",
           "#19d3f3",
           "#FF6692",
           "#B6E880",
           "#FF97FF",
           "#FECB52"
          ],
          "font": {
           "color": "#2a3f5f"
          },
          "geo": {
           "bgcolor": "white",
           "lakecolor": "white",
           "landcolor": "#E5ECF6",
           "showlakes": true,
           "showland": true,
           "subunitcolor": "white"
          },
          "hoverlabel": {
           "align": "left"
          },
          "hovermode": "closest",
          "mapbox": {
           "style": "light"
          },
          "paper_bgcolor": "white",
          "plot_bgcolor": "#E5ECF6",
          "polar": {
           "angularaxis": {
            "gridcolor": "white",
            "linecolor": "white",
            "ticks": ""
           },
           "bgcolor": "#E5ECF6",
           "radialaxis": {
            "gridcolor": "white",
            "linecolor": "white",
            "ticks": ""
           }
          },
          "scene": {
           "xaxis": {
            "backgroundcolor": "#E5ECF6",
            "gridcolor": "white",
            "gridwidth": 2,
            "linecolor": "white",
            "showbackground": true,
            "ticks": "",
            "zerolinecolor": "white"
           },
           "yaxis": {
            "backgroundcolor": "#E5ECF6",
            "gridcolor": "white",
            "gridwidth": 2,
            "linecolor": "white",
            "showbackground": true,
            "ticks": "",
            "zerolinecolor": "white"
           },
           "zaxis": {
            "backgroundcolor": "#E5ECF6",
            "gridcolor": "white",
            "gridwidth": 2,
            "linecolor": "white",
            "showbackground": true,
            "ticks": "",
            "zerolinecolor": "white"
           }
          },
          "shapedefaults": {
           "line": {
            "color": "#2a3f5f"
           }
          },
          "ternary": {
           "aaxis": {
            "gridcolor": "white",
            "linecolor": "white",
            "ticks": ""
           },
           "baxis": {
            "gridcolor": "white",
            "linecolor": "white",
            "ticks": ""
           },
           "bgcolor": "#E5ECF6",
           "caxis": {
            "gridcolor": "white",
            "linecolor": "white",
            "ticks": ""
           }
          },
          "title": {
           "x": 0.05
          },
          "xaxis": {
           "automargin": true,
           "gridcolor": "white",
           "linecolor": "white",
           "ticks": "",
           "title": {
            "standoff": 15
           },
           "zerolinecolor": "white",
           "zerolinewidth": 2
          },
          "yaxis": {
           "automargin": true,
           "gridcolor": "white",
           "linecolor": "white",
           "ticks": "",
           "title": {
            "standoff": 15
           },
           "zerolinecolor": "white",
           "zerolinewidth": 2
          }
         }
        },
        "title": {
         "text": "Convergence of Option Prices"
        },
        "width": 1200,
        "xaxis": {
         "anchor": "y",
         "domain": [
          0,
          0.45
         ]
        },
        "xaxis2": {
         "anchor": "y2",
         "domain": [
          0.55,
          1
         ]
        },
        "xaxis3": {
         "anchor": "y3",
         "domain": [
          0,
          0.45
         ]
        },
        "xaxis4": {
         "anchor": "y4",
         "domain": [
          0.55,
          1
         ]
        },
        "yaxis": {
         "anchor": "x",
         "domain": [
          0.625,
          1
         ]
        },
        "yaxis2": {
         "anchor": "x2",
         "domain": [
          0.625,
          1
         ]
        },
        "yaxis3": {
         "anchor": "x3",
         "domain": [
          0,
          0.375
         ]
        },
        "yaxis4": {
         "anchor": "x4",
         "domain": [
          0,
          0.375
         ]
        }
       }
      }
     },
     "metadata": {},
     "output_type": "display_data"
    }
   ],
   "source": [
    "from plotly.subplots import make_subplots\n",
    "simulation_plots = make_subplots(rows=2, cols=2, subplot_titles=('European Call','European Put','American Call','American Put'))\n",
    "simulation_plots.update_layout(height=600, width=1200, title_text=\"Convergence of Option Prices\")\n",
    "simulation_plots.add_trace(NumberOfStepsSimulator(european_call, range(1,30,1)).graph(), row = 1, col = 1)\n",
    "simulation_plots.add_trace(NumberOfStepsSimulator(european_put, range(1,30,1)).graph(),row = 1, col = 2)\n",
    "simulation_plots.add_trace(NumberOfStepsSimulator(american_call, range(1,30,1)).graph(),row = 2, col = 1)\n",
    "simulation_plots.add_trace(NumberOfStepsSimulator(american_put, range(1,30,1)).graph(),row = 2, col = 2)\n",
    "simulation_plots.show()\n"
   ]
  },
  {
   "cell_type": "markdown",
   "metadata": {},
   "source": [
    "We find that the call price starts oscillating around $21 at arounf 10 steps. We choose number of steps as 3 to also ensure nice divisibility by 3."
   ]
  },
  {
   "cell_type": "code",
   "execution_count": 7,
   "metadata": {},
   "outputs": [],
   "source": [
    "european_call = Option(style=OptionStyle.EUROPEAN, right=OptionRight.CALL, spot_price=100, strike_price=100, time_to_maturity=3, risk_free_rate=0.05, number_of_steps=3, sigma=0.2)\n",
    "european_put = Option(style=OptionStyle.EUROPEAN, right=OptionRight.PUT, spot_price=100, strike_price=100, time_to_maturity=3, risk_free_rate=0.05, number_of_steps=3, sigma=0.2)\n",
    "american_call = Option(style=OptionStyle.AMERICAN, right=OptionRight.CALL, spot_price=100, strike_price=100, time_to_maturity=3, risk_free_rate=0.05, number_of_steps=3, sigma=0.2)\n",
    "american_put = Option(style=OptionStyle.AMERICAN, right=OptionRight.PUT, spot_price=100, strike_price=100, time_to_maturity=3, risk_free_rate=0.05, number_of_steps=3, sigma=0.2)"
   ]
  },
  {
   "cell_type": "markdown",
   "metadata": {},
   "source": [
    "## Calculating Greek Delta"
   ]
  },
  {
   "cell_type": "code",
   "execution_count": 13,
   "metadata": {},
   "outputs": [
    {
     "name": "stderr",
     "output_type": "stream",
     "text": [
      "C:\\Users\\kumar\\AppData\\Local\\Temp\\ipykernel_19600\\1889638869.py:3: FutureWarning:\n",
      "\n",
      "In future versions `DataFrame.to_latex` is expected to utilise the base implementation of `Styler.to_latex` for formatting and rendering. The arguments signature may therefore change. It is recommended instead to use `DataFrame.style.to_latex` which also contains additional functionality.\n",
      "\n"
     ]
    },
    {
     "data": {
      "text/plain": [
       "'\\\\begin{tabular}{lr}\\n\\\\toprule\\n{} &  Delta \\\\\\\\\\n\\\\midrule\\nEuropean Call &   0.69 \\\\\\\\\\nEuropean Put  &  -0.38 \\\\\\\\\\n\\\\bottomrule\\n\\\\end{tabular}\\n'"
      ]
     },
     "execution_count": 13,
     "metadata": {},
     "output_type": "execute_result"
    }
   ],
   "source": [
    "from pandas import DataFrame\n",
    "european_delta = [round(option.delta_evolution[0,0],2) for option in [european_call, european_put]]\n",
    "DataFrame(european_delta, index=['European Call', 'European Put'], columns=['Delta']).to_latex()\n",
    "\n",
    "    "
   ]
  },
  {
   "cell_type": "code",
   "execution_count": 169,
   "metadata": {},
   "outputs": [],
   "source": [
    "import numpy as np\n",
    "def verify_put_call_parity (call_option, put_option):\n",
    "    message = \"Exponentiating to the power of the risk free rate to discount the strike price results in a rounding off error due to floating point precision. This is why the tolerance is set to 1.\"\n",
    "    lhs = call_option.price() + np.exp(-call_option.risk_free_rate * call_option.number_of_steps)*call_option.strike_price\n",
    "    rhs = put_option.price() + put_option.spot_price\n",
    "    verify_put_call_parity = np.isclose(lhs, rhs, rtol=1)    \n",
    "    print(f\"lhs: C + Ke^-rt = {lhs:.2f}\\nrhs: P + S0 = {rhs:.2f}\")\n",
    "    print(f\"Round off: {np.abs(lhs-rhs):.2f}\")\n",
    "    print(f\"\\n{message}\")\n",
    "    return verify_put_call_parity"
   ]
  },
  {
   "cell_type": "markdown",
   "metadata": {},
   "source": [
    "Verification of put-call parity for European options"
   ]
  },
  {
   "cell_type": "code",
   "execution_count": 170,
   "metadata": {},
   "outputs": [
    {
     "name": "stdout",
     "output_type": "stream",
     "text": [
      "lhs: C + Ke^-rt = 112.84\n",
      "rhs: P + S0 = 113.17\n",
      "Round off: 0.33\n",
      "\n",
      "Exponentiating to the power of the risk free rate to discount the strike price results in a rounding off error due to floating point precision. This is why the tolerance is set to 1.\n"
     ]
    },
    {
     "data": {
      "text/plain": [
       "True"
      ]
     },
     "execution_count": 170,
     "metadata": {},
     "output_type": "execute_result"
    }
   ],
   "source": [
    "verify_put_call_parity(european_call, european_put)"
   ]
  },
  {
   "cell_type": "markdown",
   "metadata": {},
   "source": [
    "Verification of put-call parity for American options"
   ]
  },
  {
   "cell_type": "code",
   "execution_count": 171,
   "metadata": {},
   "outputs": [
    {
     "name": "stdout",
     "output_type": "stream",
     "text": [
      "lhs: C + Ke^-rt = 112.84\n",
      "rhs: P + S0 = 113.17\n",
      "Round off: 0.33\n",
      "\n",
      "Exponentiating to the power of the risk free rate to discount the strike price results in a rounding off error due to floating point precision. This is why the tolerance is set to 1.\n"
     ]
    },
    {
     "data": {
      "text/plain": [
       "True"
      ]
     },
     "execution_count": 171,
     "metadata": {},
     "output_type": "execute_result"
    }
   ],
   "source": [
    "verify_put_call_parity(american_call, american_put)\n"
   ]
  },
  {
   "cell_type": "code",
   "execution_count": 11,
   "metadata": {},
   "outputs": [],
   "source": [
    "import trinomial_pricing\n",
    "reload (trinomial_pricing)\n",
    "from trinomial_pricing import TrinomialCall, TrinomialPut, TrinomialAmerican_C, TrinomialAmerican_P"
   ]
  },
  {
   "cell_type": "code",
   "execution_count": 12,
   "metadata": {},
   "outputs": [
    {
     "name": "stdout",
     "output_type": "stream",
     "text": [
      "Strike Price $ 90.00, Moneyness 90% -> American Call Option Price is $ 26.24\n",
      "Strike Price $ 95.00, Moneyness 95% -> American Call Option Price is $ 23.61\n",
      "Strike Price $ 100.00, Moneyness 100% -> American Call Option Price is $ 21.19\n",
      "Strike Price $ 105.00, Moneyness 105% -> American Call Option Price is $ 19.00\n",
      "Strike Price $ 110.00, Moneyness 110% -> American Call Option Price is $ 17.00\n"
     ]
    }
   ],
   "source": [
    "A_tri_Call_price_array = []\n",
    "for K in [0.9*100,0.95*100,100,1.05*100,1.1*100]:\n",
    "    A_tri_option_price_call = TrinomialAmerican_C(100.0, 0.05, 0.3, 2.0, K)\n",
    "    A_tri_Call_price_array.append(A_tri_option_price_call)\n",
    "    print(\"Strike Price $ {:.2f}, Moneyness {:.0f}% -> American Call Option Price is $ {:.2f}\".format(K, K/100*100, A_tri_option_price_call.price(800)))"
   ]
  },
  {
   "cell_type": "code",
   "execution_count": 13,
   "metadata": {},
   "outputs": [
    {
     "name": "stdout",
     "output_type": "stream",
     "text": [
      "Strike Price $ 90.00, Moneyness 90% -> American Put Option Price is $ 8.34\n",
      "Strike Price $ 95.00, Moneyness 95% -> American Put Option Price is $ 10.46\n",
      "Strike Price $ 100.00, Moneyness 100% -> American Put Option Price is $ 12.84\n",
      "Strike Price $ 105.00, Moneyness 105% -> American Put Option Price is $ 15.50\n",
      "Strike Price $ 110.00, Moneyness 110% -> American Put Option Price is $ 18.41\n"
     ]
    }
   ],
   "source": [
    "A_tri_put_price_array = []\n",
    "for K in [0.9*100, 0.95*100, 100, 1.05*100, 1.1*100]:\n",
    "    A_tri_option_price_put = TrinomialAmerican_P(100.0, 0.05, 0.3, 2.0, K)\n",
    "    A_tri_put_price_array.append(A_tri_option_price_put)\n",
    "    print(\"Strike Price $ {:.2f}, Moneyness {:.0f}% -> American Put Option Price is $ {:.2f}\".format(K, K/100*100, A_tri_option_price_put.price(800)))"
   ]
  },
  {
   "cell_type": "code",
   "execution_count": 14,
   "metadata": {},
   "outputs": [
    {
     "name": "stdout",
     "output_type": "stream",
     "text": [
      "Strike Price $ 90.00, Moneyness 90% -> American Put Option Price is $ 26.24\n",
      "Strike Price $ 95.00, Moneyness 95% -> American Put Option Price is $ 23.61\n",
      "Strike Price $ 100.00, Moneyness 100% -> American Put Option Price is $ 21.19\n",
      "Strike Price $ 105.00, Moneyness 105% -> American Put Option Price is $ 19.00\n",
      "Strike Price $ 110.00, Moneyness 110% -> American Put Option Price is $ 17.00\n"
     ]
    }
   ],
   "source": [
    "E_tri_put_price_array = []\n",
    "for K in [0.9*100, 0.95*100, 100, 1.05*100, 1.1*100]:\n",
    "    A_tri_option_price_put = TrinomialCall(100.0, 0.05, 0.3, 2.0, K)\n",
    "    A_tri_put_price_array.append(A_tri_option_price_put)\n",
    "    print(\"Strike Price $ {:.2f}, Moneyness {:.0f}% -> American Put Option Price is $ {:.2f}\".format(K, K/100*100, A_tri_option_price_put.price(800)))"
   ]
  },
  {
   "cell_type": "code",
   "execution_count": 15,
   "metadata": {},
   "outputs": [
    {
     "name": "stdout",
     "output_type": "stream",
     "text": [
      "Strike Price $ 90.00, Moneyness 90% -> American Put Option Price is $ 7.67\n",
      "Strike Price $ 95.00, Moneyness 95% -> American Put Option Price is $ 9.57\n",
      "Strike Price $ 100.00, Moneyness 100% -> American Put Option Price is $ 11.67\n",
      "Strike Price $ 105.00, Moneyness 105% -> American Put Option Price is $ 14.00\n",
      "Strike Price $ 110.00, Moneyness 110% -> American Put Option Price is $ 16.53\n"
     ]
    }
   ],
   "source": [
    "E_tri_put_price_array = []\n",
    "for K in [0.9*100, 0.95*100, 100, 1.05*100, 1.1*100]:\n",
    "    A_tri_option_price_put = TrinomialPut(100.0, 0.05, 0.3, 2.0, K)\n",
    "    A_tri_put_price_array.append(A_tri_option_price_put)\n",
    "    print(\"Strike Price $ {:.2f}, Moneyness {:.0f}% -> American Put Option Price is $ {:.2f}\".format(K, K/100*100, A_tri_option_price_put.price(800)))"
   ]
  },
  {
   "cell_type": "code",
   "execution_count": 9,
   "metadata": {},
   "outputs": [],
   "source": [
    "american = TrinomialCall(S0=100, r=0.05, sigma=0.2, mat=3, K=100)"
   ]
  },
  {
   "cell_type": "code",
   "execution_count": 10,
   "metadata": {},
   "outputs": [
    {
     "name": "stdout",
     "output_type": "stream",
     "text": [
      "20.097798439928535\n"
     ]
    }
   ],
   "source": [
    "print(american.price(2))"
   ]
  },
  {
   "cell_type": "code",
   "execution_count": 185,
   "metadata": {},
   "outputs": [],
   "source": [
    "tree = TrinomialPut(100.0, 0.0, 0.3, 1.0, 90.0)"
   ]
  },
  {
   "cell_type": "code",
   "execution_count": 186,
   "metadata": {},
   "outputs": [
    {
     "data": {
      "text/plain": [
       "7.264860920887219"
      ]
     },
     "execution_count": 186,
     "metadata": {},
     "output_type": "execute_result"
    }
   ],
   "source": [
    "tree.price(5)"
   ]
  },
  {
   "cell_type": "code",
   "execution_count": null,
   "metadata": {},
   "outputs": [],
   "source": []
  },
  {
   "cell_type": "code",
   "execution_count": null,
   "metadata": {},
   "outputs": [],
   "source": [
    "verify_put_call_parity(american_call, american_put)"
   ]
  },
  {
   "cell_type": "code",
   "execution_count": null,
   "metadata": {},
   "outputs": [],
   "source": []
  }
 ],
 "metadata": {
  "kernelspec": {
   "display_name": "Python 3",
   "language": "python",
   "name": "python3"
  },
  "language_info": {
   "codemirror_mode": {
    "name": "ipython",
    "version": 3
   },
   "file_extension": ".py",
   "mimetype": "text/x-python",
   "name": "python",
   "nbconvert_exporter": "python",
   "pygments_lexer": "ipython3",
   "version": "3.11.3"
  },
  "orig_nbformat": 4
 },
 "nbformat": 4,
 "nbformat_minor": 2
}
