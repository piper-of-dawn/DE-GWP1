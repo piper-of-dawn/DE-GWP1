{
 "cells": [
  {
   "cell_type": "markdown",
   "metadata": {},
   "source": [
    "## Libraries and Environment variables"
   ]
  },
  {
   "cell_type": "code",
   "execution_count": null,
   "metadata": {},
   "outputs": [],
   "source": [
    "import numpy as np\n",
    "import plotly.graph_objects as go\n",
    "import tqdm\n",
    "from scipy import stats\n",
    "import plotly.figure_factory as ff\n",
    "from tabulate import tabulate\n",
    "WQU_COLORS = ['#3F365F','#EF8B2A', '#33EEEB']"
   ]
  },
  {
   "cell_type": "markdown",
   "metadata": {},
   "source": [
    "## Some Utility Methods and Functions"
   ]
  },
  {
   "cell_type": "code",
   "execution_count": null,
   "metadata": {},
   "outputs": [],
   "source": [
    "printTable = lambda object: tabulate([[name, getattr(object, name)] for name in dir(object) if not name.startswith('_')])\n",
    "def format_plotly_figure(func):\n",
    "    def wrapper (*args, **kwargs):\n",
    "        fig = func(*args, **kwargs)\n",
    "        fig.update_layout(\n",
    "        margin=dict(l=20, r=20, t=20, b=20),\n",
    "        width=900,\n",
    "        height=400,\n",
    "        \n",
    "    )\n",
    "        fig.show()\n",
    "    return wrapper\n",
    "\n",
    "@format_plotly_figure\n",
    "def visualise_distribution (array_of_arrays, label):\n",
    "    if not hasattr(array_of_arrays[0], \"__len__\"):\n",
    "        array_of_arrays = [array_of_arrays] \n",
    "    fig = go.Figure()\n",
    "    fig = ff.create_distplot(array_of_arrays, [label], colors = WQU_COLORS, )\n",
    "    for array in array_of_arrays: print(printTable(stats.describe(array)))\n",
    "    return fig\n",
    "\n",
    "@format_plotly_figure\n",
    "def line_chart (array_of_arrays):\n",
    "    if not hasattr(array_of_arrays[0], \"__len__\"):\n",
    "        array_of_arrays = [array_of_arrays]\n",
    "    fig = go.Figure()\n",
    "    for array in array_of_arrays:\n",
    "        fig.add_trace(go.Scatter(x=np.arange(len(array)), y=array))\n",
    "    return fig\n"
   ]
  },
  {
   "cell_type": "markdown",
   "metadata": {},
   "source": [
    "#### Question 5\n"
   ]
  },
  {
   "cell_type": "code",
   "execution_count": null,
   "metadata": {},
   "outputs": [],
   "source": [
    "v0 = 0.032\n",
    "kappa_v = 1.85\n",
    "sigma_v = 0.3\n",
    "theta_v = 0.045\n",
    "rho = -0.3\n",
    "\n",
    "spot_price = 80 # Current underlying asset price\n",
    "risk_free_rate = 0.055  # Risk-free rate\n",
    "M0 = 1  # Number of time steps in a year\n",
    "T = 3 # Number of years\n",
    "M = int(M0 * T)  # Total time steps\n",
    "number_of_iterations = 10000  # Number of simulations\n",
    "dt = T / M  # Length of time step"
   ]
  },
  {
   "cell_type": "code",
   "execution_count": null,
   "metadata": {},
   "outputs": [],
   "source": [
    "def generate_heston_paths(spot_price, r, v, row, cho_matrix):\n",
    "    S = np.zeros((M + 1, number_of_iterations), dtype=float)\n",
    "    S[0] = spot_price\n",
    "    sdt = np.sqrt(dt)\n",
    "    for t in range(1, M + 1, 1):\n",
    "        ran = np.dot(cho_matrix, rand[:, t])\n",
    "        S[t] = S[t - 1] * np.exp((r - 0.5 * v[t]) * dt + np.sqrt(v[t]) * ran[row] * sdt)\n",
    "\n",
    "    return S\n",
    "\n",
    "def generate_volatility_paths(v0, kappa, theta, sigma, T, M, number_of_iterations, rand, row, cho_matrix):\n",
    "    dt = T / M  # T = maturity, M = number of time steps\n",
    "    v = np.zeros((M + 1, number_of_iterations), dtype=np.float64)\n",
    "    v[0] = v0\n",
    "    sdt = np.sqrt(dt)  # Sqrt of dt\n",
    "    for t in range(1, M + 1):\n",
    "        ran = np.dot(cho_matrix, rand[:, t])\n",
    "        v[t] = np.maximum(\n",
    "            0,\n",
    "            v[t - 1]\n",
    "            + kappa * (theta - v[t - 1]) * dt\n",
    "            + np.sqrt(v[t - 1]) * sigma * ran[row] * sdt,\n",
    "        )\n",
    "    return v\n",
    "\n",
    "def random_number_generator(M, number_of_iterations):\n",
    "    rand = np.random.standard_normal((2, M + 1, number_of_iterations))\n",
    "    return rand"
   ]
  },
  {
   "cell_type": "code",
   "execution_count": null,
   "metadata": {},
   "outputs": [],
   "source": [
    "# Generating random numbers from standard normal\n",
    "rand = random_number_generator(M, number_of_iterations)\n",
    "# Covariance Matrix\n",
    "covariance_matrix = np.zeros((2, 2), dtype=np.float64)\n",
    "covariance_matrix[0] = [1.0, rho]\n",
    "covariance_matrix[1] = [rho, 1.0]\n",
    "cho_matrix = np.linalg.cholesky(covariance_matrix)"
   ]
  },
  {
   "cell_type": "code",
   "execution_count": null,
   "metadata": {},
   "outputs": [],
   "source": [
    "def option_payoff(prices, strike_prices, option_type):\n",
    "    if not  option_type in ['call', 'put']:\n",
    "        raise ValueError('option_type must be either call or put')\n",
    "    if option_type == 'call':\n",
    "        payoff = prices - strike_prices\n",
    "    else:\n",
    "        payoff = strike_prices - prices\n",
    "    payoff[payoff < 0] = 0\n",
    "    return payoff"
   ]
  },
  {
   "cell_type": "markdown",
   "metadata": {},
   "source": [
    "We have multiple walks of call-option payoffs each generated through a simulation of the underlying stock price. The underlying asset price is generated through simulation of volatility. Since it is an European option that is exercised at maturity, we will discount the terminal payoff to the present value. "
   ]
  },
  {
   "cell_type": "code",
   "execution_count": null,
   "metadata": {},
   "outputs": [],
   "source": [
    "# Volatility process paths\n",
    "def price_options (v0, kappa_v, theta_v, sigma_v, T, M, number_of_iterations, rand, cho_matrix, spot_price, risk_free_rate, strike_price):\n",
    "    volatility_paths = generate_volatility_paths(v0, kappa_v, theta_v, sigma_v, T, M, number_of_iterations, rand, 1, cho_matrix)\n",
    "    # Underlying price process paths\n",
    "    asset_prices = generate_heston_paths(spot_price, risk_free_rate, volatility_paths, 0, cho_matrix)\n",
    "    asset_prices = asset_prices.T\n",
    "    strike_prices = np.full(asset_prices[:,-1].shape, strike_price)\n",
    "    european_call_prices= np.exp(-risk_free_rate*T)*option_payoff(asset_prices[:,-1], strike_prices, 'call')\n",
    "    european_put_prices = np.exp(-risk_free_rate*T)*option_payoff(asset_prices[:,-1], strike_prices, 'put')\n",
    "    european_call_price = round(np.mean(european_call_prices),2)\n",
    "    european_put_price = round(np.mean(european_put_prices),2)\n",
    "    print(f\"The price of the European call option is: {european_call_price}\")\n",
    "    print(f\"The price of the European put option is: {european_put_price}\")\n",
    "    print(f\"Put Call Parity: {european_call_price + round((np.exp(-risk_free_rate*T) * strike_price), 2)} ~= {european_put_price + spot_price}\")\n",
    "    return {'EU_Call': round(np.mean(european_call_prices),2), 'EU_Put': round(np.mean(european_put_prices),2), 'asset_prices': asset_prices, 'volatility_paths': volatility_paths, 'european_call_prices': european_call_prices, 'european_put_prices': european_put_prices}"
   ]
  },
  {
   "cell_type": "code",
   "execution_count": null,
   "metadata": {},
   "outputs": [],
   "source": [
    "q5 = price_options(v0, kappa_v, theta_v, sigma_v, T, M, number_of_iterations, rand, cho_matrix, spot_price, risk_free_rate, strike_price=spot_price)"
   ]
  },
  {
   "cell_type": "markdown",
   "metadata": {},
   "source": [
    "We find that the distribution of the terminal prices has a high variability (SD ~35 (almost 50% of the mean)) and is not normally distributed. This is because the terminal price is a function of the terminal volatility which is a random variable. "
   ]
  },
  {
   "cell_type": "code",
   "execution_count": null,
   "metadata": {},
   "outputs": [],
   "source": [
    "visualise_distribution(q5['asset_prices'][:,-1], 'Asset Prices')"
   ]
  },
  {
   "cell_type": "code",
   "execution_count": null,
   "metadata": {},
   "outputs": [],
   "source": [
    "rho = -0.7\n",
    "covariance_matrix = np.zeros((2, 2), dtype=np.float64)\n",
    "covariance_matrix[0] = [1.0, rho]\n",
    "covariance_matrix[1] = [rho, 1.0]\n",
    "cho_matrix = np.linalg.cholesky(covariance_matrix)"
   ]
  },
  {
   "cell_type": "markdown",
   "metadata": {},
   "source": [
    "#### Question 6\n"
   ]
  },
  {
   "cell_type": "code",
   "execution_count": null,
   "metadata": {},
   "outputs": [],
   "source": [
    "q6 =price_options(v0, kappa_v, theta_v, sigma_v, T, M, number_of_iterations, rand, cho_matrix, spot_price, risk_free_rate, strike_price=spot_price)"
   ]
  },
  {
   "cell_type": "markdown",
   "metadata": {},
   "source": [
    "### Question 7"
   ]
  },
  {
   "cell_type": "code",
   "execution_count": null,
   "metadata": {},
   "outputs": [],
   "source": [
    "def calculate_delta (new_spot_price, original_option_price = q5):\n",
    "    option_prices = price_options(v0, kappa_v, theta_v, sigma_v, T, M, number_of_iterations, rand, cho_matrix, new_spot_price, risk_free_rate, strike_price=spot_price)\n",
    "    call_delta= (option_prices['EU_Call'] - original_option_price['EU_Call'])/(new_spot_price - spot_price)\n",
    "    put_delta= (option_prices['EU_Put'] - original_option_price['EU_Put'])/(new_spot_price - spot_price)\n",
    "    print(f\"Call Delta: {call_delta}\")\n",
    "    print(f\"Put Delta: {put_delta}\")\n",
    "    return {'call_delta': call_delta, 'put_delta': put_delta}    "
   ]
  },
  {
   "cell_type": "code",
   "execution_count": null,
   "metadata": {},
   "outputs": [],
   "source": [
    "spot_prices = list(np.arange(75, 85, 2))\n",
    "deltas = [calculate_delta(price) for price in spot_prices]"
   ]
  },
  {
   "cell_type": "code",
   "execution_count": 48,
   "metadata": {},
   "outputs": [],
   "source": [
    "from math import inf\n",
    "call_deltas = np.array([option_delta['call_delta'] for option_delta in deltas if abs(option_delta['call_delta']) != inf])\n",
    "put_deltas = np.array([option_delta['put_delta'] for option_delta in deltas if abs(option_delta['put_delta']) != inf])"
   ]
  },
  {
   "cell_type": "code",
   "execution_count": 49,
   "metadata": {},
   "outputs": [
    {
     "name": "stdout",
     "output_type": "stream",
     "text": [
      "Call Delta: 0.47\n",
      "Put Delta: -0.35\n"
     ]
    }
   ],
   "source": [
    "print(f\"Call Delta: {round(np.mean(call_deltas),2)}\")\n",
    "print(f\"Put Delta: {round(np.mean(put_deltas),2)}\")"
   ]
  },
  {
   "cell_type": "code",
   "execution_count": 50,
   "metadata": {},
   "outputs": [],
   "source": [
    "change_in_spot_price = (np.append(np.array(spot_prices[1:]), inf)- np.array(spot_prices))[:-1]\n",
    "change_in_call_deltas = (np.append(np.array(call_deltas[1:]), inf)- np.array(call_deltas))[:-1]\n",
    "change_in_put_deltas = (np.append(np.array(put_deltas[1:]), inf)- np.array(put_deltas))[:-1]\n",
    "call_gamma = change_in_call_deltas/change_in_spot_price\n",
    "put_gamma = change_in_put_deltas/change_in_spot_price"
   ]
  },
  {
   "cell_type": "code",
   "execution_count": 51,
   "metadata": {},
   "outputs": [
    {
     "name": "stdout",
     "output_type": "stream",
     "text": [
      "Call Gamma: 0.01\n",
      "Put Gamma: 0.01\n"
     ]
    }
   ],
   "source": [
    "print(f\"Call Gamma: {round(np.mean(call_gamma),2)}\")\n",
    "print(f\"Put Gamma: {round(np.mean(put_gamma),2)}\")"
   ]
  }
 ],
 "metadata": {
  "kernelspec": {
   "display_name": "Python 3",
   "language": "python",
   "name": "python3"
  },
  "language_info": {
   "codemirror_mode": {
    "name": "ipython",
    "version": 3
   },
   "file_extension": ".py",
   "mimetype": "text/x-python",
   "name": "python",
   "nbconvert_exporter": "python",
   "pygments_lexer": "ipython3",
   "version": "3.11.3"
  },
  "orig_nbformat": 4
 },
 "nbformat": 4,
 "nbformat_minor": 2
}
